{
 "cells": [
  {
   "cell_type": "markdown",
   "metadata": {},
   "source": [
    "Взял питоновский датасет от сюда\n",
    "https://huggingface.co/datasets/bigcode/the-stack/tree/main/data/python\n",
    "Первые 2000 записей\n"
   ]
  },
  {
   "cell_type": "code",
   "execution_count": 1,
   "metadata": {},
   "outputs": [],
   "source": [
    "import pyarrow.parquet as pq\n",
    "import json"
   ]
  },
  {
   "cell_type": "code",
   "execution_count": 2,
   "metadata": {},
   "outputs": [],
   "source": [
    "\n",
    "# Открываем Parquet файл для чтения\n",
    "parquet_file = pq.ParquetFile('dataset/train-00000-of-00206.parquet')\n",
    "\n"
   ]
  },
  {
   "cell_type": "code",
   "execution_count": 3,
   "metadata": {},
   "outputs": [
    {
     "data": {
      "text/plain": [
       "['hexsha',\n",
       " 'size',\n",
       " 'ext',\n",
       " 'lang',\n",
       " 'max_stars_repo_path',\n",
       " 'max_stars_repo_name',\n",
       " 'max_stars_repo_head_hexsha',\n",
       " 'item',\n",
       " 'max_stars_count',\n",
       " 'max_stars_repo_stars_event_min_datetime',\n",
       " 'max_stars_repo_stars_event_max_datetime',\n",
       " 'max_issues_repo_path',\n",
       " 'max_issues_repo_name',\n",
       " 'max_issues_repo_head_hexsha',\n",
       " 'item',\n",
       " 'max_issues_count',\n",
       " 'max_issues_repo_issues_event_min_datetime',\n",
       " 'max_issues_repo_issues_event_max_datetime',\n",
       " 'max_forks_repo_path',\n",
       " 'max_forks_repo_name',\n",
       " 'max_forks_repo_head_hexsha',\n",
       " 'item',\n",
       " 'max_forks_count',\n",
       " 'max_forks_repo_forks_event_min_datetime',\n",
       " 'max_forks_repo_forks_event_max_datetime',\n",
       " 'content',\n",
       " 'avg_line_length',\n",
       " 'max_line_length',\n",
       " 'alphanum_fraction']"
      ]
     },
     "execution_count": 3,
     "metadata": {},
     "output_type": "execute_result"
    }
   ],
   "source": [
    "columns = parquet_file.schema.names\n",
    "columns"
   ]
  },
  {
   "cell_type": "code",
   "execution_count": 4,
   "metadata": {},
   "outputs": [],
   "source": [
    "\n",
    "# Получаем список колонок в файле\n",
    "columns = parquet_file.schema.names\n",
    "\n",
    "# Читаем только выбранные колонки ('content' и 'size')\n",
    "columns_to_read = ['content', 'size']\n",
    "table = parquet_file.read(columns=columns_to_read)\n",
    "\n",
    "# Преобразуем данные в pandas DataFrame\n",
    "df = table.to_pandas()\n",
    "\n"
   ]
  },
  {
   "cell_type": "code",
   "execution_count": 5,
   "metadata": {},
   "outputs": [
    {
     "name": "stdout",
     "output_type": "stream",
     "text": [
      "6442\n",
      "6442\n"
     ]
    }
   ],
   "source": [
    "\n",
    "print(len(df.iloc[0, 0]))\n",
    "print(df.iloc[0, 1])\n",
    "\n"
   ]
  },
  {
   "cell_type": "code",
   "execution_count": 6,
   "metadata": {},
   "outputs": [
    {
     "name": "stdout",
     "output_type": "stream",
     "text": [
      "Записан файл dataset/dataset_0.json с 1000 строками\n",
      "Записан файл dataset/dataset_1.json с 1000 строками\n"
     ]
    }
   ],
   "source": [
    "\n",
    "\n",
    "df = df[df['size'] < 100_000]\n",
    "\n",
    "nrows = 2 * 1000\n",
    "batch_size = 1000\n",
    "\n",
    "# Разбиваем DataFrame на пакеты по batch_size строк\n",
    "for i in range(0, nrows, batch_size):\n",
    "    # Получаем пакет данных\n",
    "    batch_df = df.iloc[i:i+batch_size]\n",
    "    \n",
    "    # Преобразуем DataFrame в список словарей\n",
    "    data = batch_df.to_dict(orient='records')\n",
    "    \n",
    "    # Создаем имя файла для текущего пакета данных\n",
    "    filename = f'dataset/dataset_{i//batch_size}.json'\n",
    "    \n",
    "    # Сериализуем данные в JSON и записываем в файл\n",
    "    with open(filename, 'w') as json_file:\n",
    "        json.dump(data, json_file)\n",
    "        \n",
    "    print(f'Записан файл {filename} с {len(batch_df)} строками')\n"
   ]
  }
 ],
 "metadata": {
  "kernelspec": {
   "display_name": "Python 3",
   "language": "python",
   "name": "python3"
  },
  "language_info": {
   "codemirror_mode": {
    "name": "ipython",
    "version": 3
   },
   "file_extension": ".py",
   "mimetype": "text/x-python",
   "name": "python",
   "nbconvert_exporter": "python",
   "pygments_lexer": "ipython3",
   "version": "3.11.9"
  }
 },
 "nbformat": 4,
 "nbformat_minor": 2
}
