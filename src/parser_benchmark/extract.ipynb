{
 "cells": [
  {
   "cell_type": "markdown",
   "metadata": {},
   "source": [
    "Взял питоновский датасет от сюда\n",
    "https://huggingface.co/datasets/bigcode/the-stack/tree/main/data/python\n",
    "Первые 2000 записей\n",
    "\n",
    "Нужно закинуть скачать и закинуть файл dataset/train-00000-of-00206.parquet в папку датасет, потом запустить эту штуку.\n",
    "Далее запустить npm run benchmark\n",
    "потом можно прогнать анализ\n"
   ]
  },
  {
   "cell_type": "markdown",
   "metadata": {},
   "source": [
    "В датасете больше файлов с маленьким размером. \n",
    "Для достижения +- равномерного распределения строк по размерам файла, данные сначала делятся на группы по диапазонам размера файла. Затем из каждой группы случайным образом выбирается количество строк, пропорциональное размеру группы, чтобы в сумме получить ровно 1000 строк на пакет. Это обеспечивает более равномерное распределение строк в каждом файле."
   ]
  },
  {
   "cell_type": "code",
   "execution_count": 10,
   "metadata": {},
   "outputs": [],
   "source": [
    "import pyarrow.parquet as pq\n",
    "import pandas as pd\n",
    "import numpy as np\n",
    "import json\n"
   ]
  },
  {
   "cell_type": "code",
   "execution_count": 16,
   "metadata": {},
   "outputs": [
    {
     "name": "stdout",
     "output_type": "stream",
     "text": [
      "Записан файл dataset/dataset_0.json с 1000 строками\n",
      "Записан файл dataset/dataset_1.json с 1000 строками\n"
     ]
    }
   ],
   "source": [
    "\n",
    "# Читаем данные из Parquet файла\n",
    "parquet_file = pq.ParquetFile('dataset/train-00000-of-00206.parquet')\n",
    "columns_to_read = ['content', 'size']\n",
    "table = parquet_file.read(columns=columns_to_read)\n",
    "df = table.to_pandas()\n",
    "\n",
    "# Ограничение на максимальный размер файла\n",
    "max_file_size = 20_000\n",
    "df = df[df['size'] < max_file_size]\n",
    "\n",
    "# Определяем диапазоны размеров\n",
    "bins = np.linspace(df['size'].min(), df['size'].max(), num=10)\n",
    "\n",
    "# Разбиваем DataFrame на группы по размерам\n",
    "groups = [df[(df['size'] >= bins[i]) & (df['size'] < bins[i+1])] for i in range(len(bins)-1)]\n",
    "\n",
    "# Параметры пакетов\n",
    "nrows = 2 * 1000\n",
    "batch_size = 1000\n",
    "\n",
    "# Функция для выборки случайных образцов из каждой группы\n",
    "def sample_batches(groups, batch_size):\n",
    "    samples = []\n",
    "    remaining = batch_size\n",
    "    \n",
    "    while remaining > 0 and len(groups) > 0:\n",
    "        group = groups.pop(0)\n",
    "        if len(group) > 0:\n",
    "            sample_size = min(len(group), max(1, remaining // len(groups) if len(groups) > 0 else remaining))\n",
    "            sample = group.sample(n=sample_size)\n",
    "            samples.append(sample)\n",
    "            remaining -= sample_size\n",
    "            groups.append(group.drop(sample.index))  # Удаляем выбранные строки из группы\n",
    "    \n",
    "    return pd.concat(samples)\n",
    "\n",
    "# Генерация и запись файлов пакетов\n",
    "for i in range(0, nrows, batch_size):\n",
    "    batch_df = sample_batches(groups.copy(), batch_size)\n",
    "    \n",
    "    # Преобразуем DataFrame в список словарей\n",
    "    data = batch_df.to_dict(orient='records')\n",
    "    \n",
    "    # Создаем имя файла для текущего пакета данных\n",
    "    filename = f'dataset/dataset_{i//batch_size}.json'\n",
    "    \n",
    "    # Сериализуем данные в JSON и записываем в файл\n",
    "    with open(filename, 'w') as json_file:\n",
    "        json.dump(data, json_file)\n",
    "        \n",
    "    print(f'Записан файл {filename} с {len(batch_df)} строками')\n"
   ]
  }
 ],
 "metadata": {
  "kernelspec": {
   "display_name": "Python 3",
   "language": "python",
   "name": "python3"
  },
  "language_info": {
   "codemirror_mode": {
    "name": "ipython",
    "version": 3
   },
   "file_extension": ".py",
   "mimetype": "text/x-python",
   "name": "python",
   "nbconvert_exporter": "python",
   "pygments_lexer": "ipython3",
   "version": "3.11.9"
  }
 },
 "nbformat": 4,
 "nbformat_minor": 2
}
